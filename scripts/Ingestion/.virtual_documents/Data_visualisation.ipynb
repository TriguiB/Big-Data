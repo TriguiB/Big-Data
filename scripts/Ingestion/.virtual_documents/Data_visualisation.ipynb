from pymongo import MongoClient
import pandas as pd
import matplotlib.pyplot as plt

client = MongoClient("mongodb://localhost:27017/")
db = client["github_issues"]
collection = db["closed_issues"]

pipeline = [
    {"$group": {"_id": "$language", "count": {"$sum": 1}}},
    {"$sort": {"count": -1}}
]

result = list(collection.aggregate(pipeline))
df = pd.DataFrame(result)

print(df)

df.plot(kind="bar", x="_id", y="count", legend=False)
plt.xlabel("Langage")
plt.ylabel("Nombre d'issues")
plt.title("Nombre d'issues par langage")
plt.xticks(rotation=45)
plt.show()




